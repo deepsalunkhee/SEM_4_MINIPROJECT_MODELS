{
 "cells": [
  {
   "cell_type": "markdown",
   "id": "23496dd0",
   "metadata": {},
   "source": [
    "#Lets get started with Designing model"
   ]
  },
  {
   "cell_type": "markdown",
   "id": "33c72555",
   "metadata": {},
   "source": [
    "import tensorflow"
   ]
  },
  {
   "cell_type": "markdown",
   "id": "311339be",
   "metadata": {},
   "source": [
    "#TensorFlow is an open-source machine learning framework developed by Google Brain Team that allows developers to create and deploy machine learning models. It was released in 2015 and has since become one of the most popular machine learning libraries. TensorFlow provides a powerful set of tools for building and training different types of machine learning models, including deep neural networks. It supports both CPU and GPU computation and provides a variety of APIs that allow developers to create machine learning models using Python, C++, or other programming languages. TensorFlow also includes a visualization tool called TensorBoard that makes it easy to monitor and analyze the training of machine learning models. TensorFlow is widely used in many applications, including image and speech recognition, natural language processing, and robotics."
   ]
  },
  {
   "cell_type": "code",
   "execution_count": 1,
   "id": "d92f5752",
   "metadata": {},
   "outputs": [],
   "source": [
    "import keras"
   ]
  },
  {
   "cell_type": "markdown",
   "id": "542e0ae5",
   "metadata": {},
   "source": [
    "#Keras is a high-level neural networks API written in Python and designed to be user-friendly, modular, and extensible. It was developed by François Chollet and was first released in 2015. Keras is designed to simplify the process of building and training deep learning models. It provides a simple and consistent interface that makes it easy to create and customize deep neural networks.\n",
    "\n",
    "Keras is built on top of lower-level libraries such as TensorFlow, Theano, or CNTK, and provides an abstracted interface that allows developers to quickly build and experiment with deep learning models. Keras supports various types of neural networks, including convolutional neural networks, recurrent neural networks, and multi-layer perceptrons.\n",
    "\n",
    "Keras also includes a range of pre-built models that can be used for tasks such as image classification, text classification, and object detection. Additionally, Keras provides utilities for data preprocessing and augmentation, as well as for visualizing the training process and evaluating model performance.\n",
    "\n",
    "Overall, Keras is a powerful and popular tool for building and experimenting with deep learning models, particularly for those who are new to deep learning or do not require the advanced features of lower-level libraries like TensorFlow."
   ]
  },
  {
   "cell_type": "markdown",
   "id": "d5423dbe",
   "metadata": {},
   "source": [
    "#OpenCV-Python is a Python library that provides easy access to OpenCV (Open Source Computer Vision) functionalities. OpenCV is an open-source computer vision and machine learning software library that is widely used for a variety of applications, including image and video processing, object detection, face recognition, and more.\n",
    "\n",
    "OpenCV-Python is essentially a Python wrapper for the OpenCV C++ library, which allows developers to use OpenCV functionalities in Python programs. It provides easy-to-use APIs for various image and video processing tasks, including loading and saving images and videos, manipulating images and videos, and applying various image processing techniques such as edge detection, image filtering, and more.\n",
    "\n",
    "OpenCV-Python is compatible with a wide range of platforms, including Windows, Linux, macOS, and Android. It is also compatible with various Python packages, such as NumPy, SciPy, and Matplotlib, making it easy to integrate with other Python libraries.\n",
    "\n",
    "Overall, OpenCV-Python is a powerful and popular library for image and video processing, particularly for those who prefer to work in Python. It offers a rich set of functionalities and can be used for a variety of computer vision and machine learning tasks"
   ]
  },
  {
   "cell_type": "code",
   "execution_count": 2,
   "id": "69f44d57",
   "metadata": {},
   "outputs": [],
   "source": [
    "from keras.models import Sequential"
   ]
  },
  {
   "cell_type": "markdown",
   "id": "674015b8",
   "metadata": {},
   "source": [
    "#This line of code imports the Sequential class from the Keras API within the TensorFlow library.\n",
    "\n",
    "The Sequential class is used to create a linear stack of layers in a neural network. This means that each layer in the network is connected to the previous layer and the next layer, forming a sequence of layers.\n",
    "\n",
    "By importing the Sequential class, you can create an instance of the Sequential model and add layers to it using the add() method, which makes it easier to build a neural network with a sequence of layers."
   ]
  },
  {
   "cell_type": "code",
   "execution_count": 3,
   "id": "c6e7c5ff",
   "metadata": {},
   "outputs": [],
   "source": [
    "from keras.layers import Conv2D, MaxPooling2D, Flatten, Dense"
   ]
  },
  {
   "cell_type": "markdown",
   "id": "18909394",
   "metadata": {},
   "source": [
    "#This line of code imports four different layer classes from the Keras API within the TensorFlow library:\n",
    "\n",
    "Conv2D: Convolutional layer for 2D spatial convolution over images. This layer is used for feature extraction in image-based tasks like image classification, object detection, and segmentation.\n",
    "\n",
    "MaxPooling2D: Max pooling operation for spatial data. This layer is used to reduce the spatial size of the feature maps, which reduces the number of parameters in the model and provides some degree of translation invariance.\n",
    "\n",
    "Flatten: Flattens the input, which means that it converts a 2D matrix of features into a 1D vector. This layer is used to connect the convolutional layers to the fully connected layers in the neural network.\n",
    "\n",
    "Dense: Fully connected layer, which is a standard neural network layer that connects every neuron in the previous layer to every neuron in the current layer.\n",
    "\n",
    "By importing these layer classes, you can use them to create a neural network architecture by instantiating and adding layers to a Sequential model."
   ]
  },
  {
   "cell_type": "code",
   "execution_count": 4,
   "id": "c00c2281",
   "metadata": {},
   "outputs": [],
   "source": [
    "model = Sequential()"
   ]
  },
  {
   "cell_type": "markdown",
   "id": "8d39a093",
   "metadata": {},
   "source": [
    "#This line of code creates a new instance of the Sequential model, which is a linear stack of layers in Keras.\n",
    "\n",
    "The Sequential model is used to build neural networks by stacking layers on top of each other. You can add layers to the model using the add() method, which adds the layer to the end of the model.\n",
    "\n",
    "By creating a new instance of the Sequential model, you can start building your own neural network architecture from scratch or customize an existing architecture by adding, removing, or changing layers."
   ]
  },
  {
   "cell_type": "code",
   "execution_count": 5,
   "id": "3ac18046",
   "metadata": {},
   "outputs": [],
   "source": [
    "model.add(Conv2D(32, (3, 3), activation='relu', input_shape=(28, 28, 1)))"
   ]
  },
  {
   "cell_type": "markdown",
   "id": "e7586267",
   "metadata": {},
   "source": [
    "This line of code adds a 2D convolutional layer to the Sequential model.\n",
    "\n",
    "Here is what each argument in the Conv2D layer represents:\n",
    "\n",
    "32: The number of filters in the convolutional layer. Each filter is responsible for detecting a specific feature in the input image.\n",
    "(3, 3): The size of each filter. In this case, each filter has a width and height of 3 pixels.\n",
    "activation='relu': The activation function to be applied to the output of each neuron in the convolutional layer. In this case, the Rectified Linear Unit (ReLU) activation function is used.\n",
    "input_shape=(28, 28, 1): The shape of the input to the convolutional layer. In this case, the input is a grayscale image with a width and height of 28 pixels and one channel.\n",
    "By adding this convolutional layer to the model, you are creating a feature extractor that will learn to detect features in the input image. The output of this layer will be a set of feature maps that highlight the presence of these features in the input image."
   ]
  },
  {
   "cell_type": "code",
   "execution_count": 6,
   "id": "2a096c0a",
   "metadata": {},
   "outputs": [],
   "source": [
    "model.add(MaxPooling2D(pool_size=(2, 2)))"
   ]
  },
  {
   "cell_type": "markdown",
   "id": "27b9597e",
   "metadata": {},
   "source": [
    "#This line of code adds a MaxPooling2D layer to the Sequential model.\n",
    "\n",
    "Here is what each argument in the MaxPooling2D layer represents:\n",
    "\n",
    "pool_size=(2, 2): The size of the pooling window. In this case, a 2x2 window is used to pool the output of the previous convolutional layer.\n",
    "Other optional arguments like strides or padding can also be specified in this layer.\n",
    "By adding this MaxPooling2D layer to the model, you are reducing the spatial size of the output feature maps generated by the previous convolutional layer. Max pooling is a downsampling operation that extracts the most important features from the feature maps, while discarding the less important ones. This helps to reduce the number of parameters in the model, while preserving the most important features. Max pooling also provides some degree of translation invariance, which means that the model can recognize the same features regardless of their position in the input image"
   ]
  },
  {
   "cell_type": "code",
   "execution_count": 7,
   "id": "fe54dc0a",
   "metadata": {},
   "outputs": [],
   "source": [
    "model.add(Conv2D(64, (3, 3), activation='relu'))"
   ]
  },
  {
   "cell_type": "markdown",
   "id": "87ebfa1d",
   "metadata": {},
   "source": [
    "#This line of code adds another 2D convolutional layer to the Sequential model.\n",
    "\n",
    "Here is what each argument in the Conv2D layer represents:\n",
    "\n",
    "64: The number of filters in the convolutional layer. Each filter is responsible for detecting a specific feature in the input image.\n",
    "(3, 3): The size of each filter. In this case, each filter has a width and height of 3 pixels.\n",
    "activation='relu': The activation function to be applied to the output of each neuron in the convolutional layer. In this case, the Rectified Linear Unit (ReLU) activation function is used.\n",
    "By adding this convolutional layer to the model, you are adding another layer to the feature extractor that will learn to detect more complex features in the input image. The output of this layer will be another set of feature maps that highlight the presence of these features in the input image.\n",
    "\n",
    "Note that since no input_shape argument is specified, this convolutional layer will take the output feature maps of the previous layer as input."
   ]
  },
  {
   "cell_type": "code",
   "execution_count": 8,
   "id": "1b1e9e60",
   "metadata": {},
   "outputs": [],
   "source": [
    "model.add(MaxPooling2D(pool_size=(2, 2)))"
   ]
  },
  {
   "cell_type": "markdown",
   "id": "6f273baa",
   "metadata": {},
   "source": [
    "This line of code adds another MaxPooling2D layer to the Sequential model.\n",
    "\n",
    "Here is what each argument in the MaxPooling2D layer represents:\n",
    "\n",
    "pool_size=(2, 2): The size of the pooling window. In this case, a 2x2 window is used to pool the output of the previous convolutional layer.\n",
    "By adding this MaxPooling2D layer to the model, you are further reducing the spatial size of the output feature maps generated by the previous convolutional layer. This will help to further reduce the number of parameters in the model and prevent overfitting.\n",
    "\n",
    "Note that the previous convolutional layer had 64 filters, so the output of this MaxPooling2D layer will be a set of 64 feature maps that are half the size of the previous set of feature maps."
   ]
  },
  {
   "cell_type": "code",
   "execution_count": 9,
   "id": "fad30dbd",
   "metadata": {},
   "outputs": [],
   "source": [
    "model.add(Flatten())"
   ]
  },
  {
   "cell_type": "markdown",
   "id": "cb770fe1",
   "metadata": {},
   "source": [
    "#This line of code adds a Flatten layer to the Sequential model.\n",
    "\n",
    "The Flatten layer is used to flatten the output of the previous layer into a 1D vector, which can then be fed into a fully connected neural network layer.\n",
    "\n",
    "By adding this Flatten layer to the model, you are converting the output feature maps of the previous convolutional layers into a flat array of numbers, which can be used as input to a dense neural network layer.\n",
    "\n",
    "The number of elements in the flattened output is equal to the number of filters in the previous convolutional layer multiplied by the spatial dimensions of the output feature maps. In this case, the output of the previous convolutional layer had 64 filters, and the spatial dimensions of the output feature maps were reduced to half, so the flattened output will have 64 x (7 x 7) = 3136 elements"
   ]
  },
  {
   "cell_type": "code",
   "execution_count": 10,
   "id": "fbd50a9f",
   "metadata": {},
   "outputs": [],
   "source": [
    "model.add(Dense(128, activation='relu'))"
   ]
  },
  {
   "cell_type": "markdown",
   "id": "ccac56cb",
   "metadata": {},
   "source": [
    "This line of code adds a Dense layer to the Sequential model.\n",
    "\n",
    "Here is what each argument in the Dense layer represents:\n",
    "\n",
    "128: The number of neurons in the dense layer. This is a hyperparameter that you can adjust to change the capacity of the model.\n",
    "activation='relu': The activation function to be applied to the output of each neuron in the dense layer. In this case, the Rectified Linear Unit (ReLU) activation function is used.\n",
    "By adding this dense layer to the model, you are adding a layer that will learn to combine the flattened output from the previous layer into a set of higher-level features that are more abstract and less tied to the specific spatial locations in the input image. The output of this layer will be a set of 128 activations, which can be used as input to the final output layer of the model."
   ]
  },
  {
   "cell_type": "code",
   "execution_count": 11,
   "id": "bdf11112",
   "metadata": {},
   "outputs": [],
   "source": [
    "model.add(Dense(10, activation='softmax'))"
   ]
  },
  {
   "cell_type": "markdown",
   "id": "2dd48458",
   "metadata": {},
   "source": [
    "This line of code adds another Dense layer to the Sequential model.\n",
    "\n",
    "Here is what each argument in the Dense layer represents:\n",
    "\n",
    "26: The number of neurons in the dense layer. In this case, there are 26 neurons, one for each possible output class in the model.\n",
    "activation='softmax': The activation function to be applied to the output of each neuron in the dense layer. In this case, the Softmax activation function is used. The Softmax function normalizes the outputs of the neurons so that they represent a probability distribution over the possible output classes.\n",
    "By adding this dense layer to the model, you are adding the final output layer that will predict the probabilities of each of the 26 possible output classes (assuming that this model is designed to perform a classification task with 26 classes).\n",
    "\n",
    "The output of this layer will be a set of 26 probabilities, one for each possible output class in the model. The predicted output class will be the class with the highest probability"
   ]
  },
  {
   "cell_type": "code",
   "execution_count": 12,
   "id": "5e521263",
   "metadata": {},
   "outputs": [],
   "source": [
    "model.compile(optimizer='adam', loss='categorical_crossentropy', metrics=['accuracy'])"
   ]
  },
  {
   "cell_type": "markdown",
   "id": "537056e1",
   "metadata": {},
   "source": [
    "This line of code compiles the Sequential model that was previously defined.\n",
    "\n",
    "Here is what each argument in the compile method represents:\n",
    "\n",
    "optimizer='adam': The optimization algorithm to be used during training. In this case, the Adam optimizer is used, which is a popular optimizer for deep learning models.\n",
    "loss='categorical_crossentropy': The loss function to be optimized during training. In this case, the categorical cross-entropy loss function is used, which is a common loss function for multi-class classification problems.\n",
    "metrics=['accuracy']: The metric used to evaluate the performance of the model during training and testing. In this case, the accuracy metric is used, which measures the proportion of correctly classified images.\n",
    "By calling the compile method, you are configuring the model for training. The optimizer, loss function, and performance metric are specified so that the model can be trained on the input data and output labels. The compile method does not actually perform any training; it just sets up the model for training."
   ]
  },
  {
   "cell_type": "markdown",
   "id": "31654ae6",
   "metadata": {},
   "source": [
    "Now lets start training the Model=>"
   ]
  },
  {
   "cell_type": "code",
   "execution_count": 13,
   "id": "7661c268",
   "metadata": {},
   "outputs": [],
   "source": [
    "from keras.datasets import mnist\n",
    "\n",
    "# Load the MNIST dataset\n",
    "(X_train, y_train), (X_test, y_test) = mnist.load_data()\n",
    "\n",
    "# Normalize the pixel values between 0 and 1\n",
    "X_train = X_train.astype('float32') / 255\n",
    "X_test = X_test.astype('float32') / 255\n",
    "\n",
    "# Reshape the data to a 4D tensor\n",
    "X_train = X_train.reshape(X_train.shape[0], 28, 28, 1)\n",
    "X_test = X_test.reshape(X_test.shape[0], 28, 28, 1)\n",
    "\n",
    "# Convert the labels to one-hot encoded vectors\n",
    "from keras.utils import to_categorical\n",
    "y_train = to_categorical(y_train, num_classes=10)\n",
    "y_test = to_categorical(y_test, num_classes=10)"
   ]
  },
  {
   "cell_type": "markdown",
   "id": "068f1e9a",
   "metadata": {},
   "source": [
    "#This code is preparing the MNIST dataset for use in training a machine learning model. Here's what each line does:\n",
    "\n",
    "from keras.datasets import mnist: This line imports the MNIST dataset from the Keras library.\n",
    "(X_train, y_train), (X_test, y_test) = mnist.load_data(): This line loads the MNIST dataset into four NumPy arrays: X_train, y_train, X_test, and y_test. The training data consists of 60,000 28x28 grayscale images of handwritten digits, and the test data consists of 10,000 images.\n",
    "X_train = X_train.astype('float32') / 255: This line normalizes the pixel values in the training images by dividing each pixel value by 255. This scales the values down to the range of 0-1, making it easier for the model to learn.\n",
    "X_test = X_test.astype('float32') / 255: This line does the same normalization on the test images.\n",
    "X_train = X_train.reshape(X_train.shape[0], 28, 28, 1): This line reshapes the training data to a 4D tensor with shape (num_samples, height, width, channels). In this case, num_samples is the number of training images, height and width are both 28 (the dimensions of the images), and channels is 1, since the images are grayscale.\n",
    "X_test = X_test.reshape(X_test.shape[0], 28, 28, 1): This line does the same reshaping on the test data.\n",
    "from keras.utils import to_categorical: This line imports the to_categorical function from the Keras utility module.\n",
    "y_train = to_categorical(y_train, num_classes=10): This line one-hot encodes the training labels. This means that each label (which represents a digit from 0-9) is converted into a vector of length 10, where all elements are zero except for the one corresponding to the digit. For example, the label 3 would be converted to the vector [0, 0, 0, 1, 0, 0, 0, 0, 0, 0].\n",
    "y_test = to_categorical(y_test, num_classes=10): This line does the same one-hot encoding on the test labels."
   ]
  },
  {
   "cell_type": "code",
   "execution_count": null,
   "id": "3aec579c",
   "metadata": {
    "scrolled": true
   },
   "outputs": [
    {
     "name": "stdout",
     "output_type": "stream",
     "text": [
      "Epoch 1/60\n",
      "  11/1875 [..............................] - ETA: 55s - loss: 2.1742 - accuracy: 0.2415    "
     ]
    }
   ],
   "source": [
    "model.fit(X_train, y_train, validation_data=(X_test, y_test), epochs=60, batch_size=32)"
   ]
  },
  {
   "cell_type": "markdown",
   "id": "abcdd093",
   "metadata": {},
   "source": [
    "#This line of code is likely using a machine learning library, such as TensorFlow or Keras, to train a model. Specifically, it's calling the fit method on the model object, which trains the model on the input data (X_train) and target labels (y_train). The validation_data parameter specifies the data to use for validation during training, in this case X_test and y_test.\n",
    "\n",
    "The model will be trained for 10 epochs, which means it will iterate over the entire training dataset 10 times. The batch_size parameter specifies the number of samples to use in each batch of training. In this case, the batch size is set to 32, so the model will update its weights after processing 32 samples at a time.\n",
    "\n",
    "Overall, this line of code is fitting a machine learning model to the training data and monitoring its performance on the validation set for 10 iterations, using a batch size of 32."
   ]
  },
  {
   "cell_type": "code",
   "execution_count": null,
   "id": "8a21b18a",
   "metadata": {},
   "outputs": [],
   "source": [
    "model.save('model0.h5')"
   ]
  }
 ],
 "metadata": {
  "kernelspec": {
   "display_name": "Python 3 (ipykernel)",
   "language": "python",
   "name": "python3"
  },
  "language_info": {
   "codemirror_mode": {
    "name": "ipython",
    "version": 3
   },
   "file_extension": ".py",
   "mimetype": "text/x-python",
   "name": "python",
   "nbconvert_exporter": "python",
   "pygments_lexer": "ipython3",
   "version": "3.9.13"
  }
 },
 "nbformat": 4,
 "nbformat_minor": 5
}
